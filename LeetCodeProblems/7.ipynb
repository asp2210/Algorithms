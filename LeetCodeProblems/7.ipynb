{
 "cells": [
  {
   "cell_type": "code",
   "execution_count": 38,
   "metadata": {},
   "outputs": [],
   "source": [
    "class Solution:\n",
    "    def reverse(self, y: int) -> int:\n",
    "           c=0\n",
    "           x=abs(y)\n",
    "           ct=len(str(x))\n",
    "           while(x>=1):\n",
    "                j=x%10\n",
    "                x=x/10\n",
    "                c+=((10)**(ct-1))*int(j)\n",
    "                ct-=1\n",
    "           if y<0 and -c>=(-2**31):\n",
    "              return -c\n",
    "           elif y>0 and c<=(2**31-1):\n",
    "              return c\n",
    "           else:\n",
    "              return 0     \n",
    "                 \n",
    "                "
   ]
  },
  {
   "cell_type": "code",
   "execution_count": 39,
   "metadata": {},
   "outputs": [
    {
     "data": {
      "text/plain": [
       "-123"
      ]
     },
     "execution_count": 39,
     "metadata": {},
     "output_type": "execute_result"
    }
   ],
   "source": [
    "b=Solution()\n",
    "b.reverse(-321)"
   ]
  },
  {
   "cell_type": "code",
   "execution_count": null,
   "metadata": {},
   "outputs": [],
   "source": []
  }
 ],
 "metadata": {
  "kernelspec": {
   "display_name": "Python 3",
   "language": "python",
   "name": "python3"
  },
  "language_info": {
   "codemirror_mode": {
    "name": "ipython",
    "version": 3
   },
   "file_extension": ".py",
   "mimetype": "text/x-python",
   "name": "python",
   "nbconvert_exporter": "python",
   "pygments_lexer": "ipython3",
   "version": "3.7.3"
  }
 },
 "nbformat": 4,
 "nbformat_minor": 2
}
