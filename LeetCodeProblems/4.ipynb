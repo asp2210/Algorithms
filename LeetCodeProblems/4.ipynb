{
 "cells": [
  {
   "cell_type": "code",
   "execution_count": 18,
   "metadata": {},
   "outputs": [],
   "source": [
    "def sorted_median(A,B):\n",
    "    m=len(A)\n",
    "    n=len(B)\n",
    "    if m>n:\n",
    "        A,B,m,n=B,A,n,m\n",
    "    imin=0\n",
    "    imax=m\n",
    "    while(imin<=imax):\n",
    "        i=(imin+imax)//2\n",
    "        j=(m+n+1)//2-i\n",
    "        if(i>0)and(A[i-1]>B[j]):\n",
    "            imax=imax-1\n",
    "        elif(i<m) and(B[j-1]>A[i]):\n",
    "            imin=imin+1\n",
    "        else:\n",
    "            if i==0:\n",
    "                max_of_left=B[j-1]\n",
    "            elif j==0:\n",
    "                max_of_left=A[i-1]\n",
    "            else:\n",
    "                max_of_left=max(A[i-1],B[j-1])\n",
    "            if (m+n)%2==1:\n",
    "                return max_of_left\n",
    "            else:\n",
    "              if i==m:\n",
    "                min_of_right=B[j]\n",
    "              elif j==n:\n",
    "                min_of_right=A[i]\n",
    "              else:\n",
    "                min_of_right=min(A[i],B[j])\n",
    "              return (max_of_left+min_of_right)/2\n",
    "    \n",
    "    \n",
    "    return median  \n",
    "            "
   ]
  },
  {
   "cell_type": "code",
   "execution_count": 21,
   "metadata": {},
   "outputs": [
    {
     "name": "stdout",
     "output_type": "stream",
     "text": [
      "2.5\n"
     ]
    }
   ],
   "source": [
    "A=[1,3]\n",
    "B=[2,6]\n",
    "print(sorted_median(A,B))"
   ]
  }
 ],
 "metadata": {
  "kernelspec": {
   "display_name": "Python 3",
   "language": "python",
   "name": "python3"
  },
  "language_info": {
   "codemirror_mode": {
    "name": "ipython",
    "version": 3
   },
   "file_extension": ".py",
   "mimetype": "text/x-python",
   "name": "python",
   "nbconvert_exporter": "python",
   "pygments_lexer": "ipython3",
   "version": "3.7.3"
  }
 },
 "nbformat": 4,
 "nbformat_minor": 2
}
