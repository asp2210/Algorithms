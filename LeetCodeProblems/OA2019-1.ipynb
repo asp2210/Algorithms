{
 "cells": [
  {
   "cell_type": "code",
   "execution_count": 42,
   "metadata": {},
   "outputs": [],
   "source": [
    "def uncom(arr,n):\n",
    "    res=0\n",
    "    for i in range(arr[0],arr[1]+1):\n",
    "        common=0\n",
    "        if (i%10!=0):\n",
    "            narr=[int(d) for d in str(i)]\n",
    "            doublarr=[int(d) for d in str(n*i)]\n",
    "            #print(doublarr)\n",
    "            for x in doublarr:\n",
    "                for y in narr:\n",
    "                    if x==y:\n",
    "                        common=1\n",
    "            \n",
    "            if common==0:            \n",
    "               res+=1\n",
    "            #res+=(x!=y for x,y in zip(narr,doublarr))\n",
    "            #print(res)\n",
    "    return res  "
   ]
  },
  {
   "cell_type": "code",
   "execution_count": 50,
   "metadata": {},
   "outputs": [
    {
     "name": "stdout",
     "output_type": "stream",
     "text": [
      "9\n",
      "--- 0.0 seconds ---\n"
     ]
    }
   ],
   "source": [
    "import time\n",
    "start_time = time.time()\n",
    "print(uncom([5,15],2))\n",
    "print(\"--- %s seconds ---\" % (time.time() - start_time))"
   ]
  },
  {
   "cell_type": "code",
   "execution_count": null,
   "metadata": {},
   "outputs": [],
   "source": []
  }
 ],
 "metadata": {
  "kernelspec": {
   "display_name": "Python 3",
   "language": "python",
   "name": "python3"
  },
  "language_info": {
   "codemirror_mode": {
    "name": "ipython",
    "version": 3
   },
   "file_extension": ".py",
   "mimetype": "text/x-python",
   "name": "python",
   "nbconvert_exporter": "python",
   "pygments_lexer": "ipython3",
   "version": "3.7.3"
  }
 },
 "nbformat": 4,
 "nbformat_minor": 2
}
