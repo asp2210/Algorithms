{
 "cells": [
  {
   "cell_type": "markdown",
   "metadata": {},
   "source": [
    "Prove that the pointwise maximum of a function is:\n",
    "        $max(f,g)=\\theta(f(n)+g(n))$"
   ]
  },
  {
   "cell_type": "markdown",
   "metadata": {},
   "source": [
    "For every n:\n",
    "\n",
    "$max(f(n),g(n))<=f(n)+g(n)$\n",
    "\n",
    "\n",
    "$2max(f(n),g(n))>=f(n)+g(n)$$\\Longrightarrow$$c_1=0.5,c_2=1$"
   ]
  }
 ],
 "metadata": {
  "kernelspec": {
   "display_name": "Python 3",
   "language": "python",
   "name": "python3"
  },
  "language_info": {
   "codemirror_mode": {
    "name": "ipython",
    "version": 3
   },
   "file_extension": ".py",
   "mimetype": "text/x-python",
   "name": "python",
   "nbconvert_exporter": "python",
   "pygments_lexer": "ipython3",
   "version": "3.7.3"
  }
 },
 "nbformat": 4,
 "nbformat_minor": 2
}
