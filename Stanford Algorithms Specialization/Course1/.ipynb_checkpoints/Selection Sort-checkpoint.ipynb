{
 "cells": [
  {
   "cell_type": "code",
   "execution_count": 7,
   "metadata": {},
   "outputs": [],
   "source": [
    "def selection_sort(arr):\n",
    "     i=0\n",
    "     n=len(arr)\n",
    "     while(i<n-1):\n",
    "        min_index=i\n",
    "        j=i+1\n",
    "        while(j<n):\n",
    "            if arr[j]<arr[min_index]:\n",
    "                min_index=j\n",
    "            j+=1\n",
    "        arr[min_index],arr[i]=arr[i],arr[min_index]\n",
    "        i+=1\n",
    "     return arr\n"
   ]
  },
  {
   "cell_type": "code",
   "execution_count": 10,
   "metadata": {},
   "outputs": [
    {
     "data": {
      "text/plain": [
       "[1, 2, 3, 4, 5, 5]"
      ]
     },
     "execution_count": 10,
     "metadata": {},
     "output_type": "execute_result"
    }
   ],
   "source": [
    "selection_sort([4,5,2,5,3,1])"
   ]
  }
 ],
 "metadata": {
  "kernelspec": {
   "display_name": "Python 3",
   "language": "python",
   "name": "python3"
  },
  "language_info": {
   "codemirror_mode": {
    "name": "ipython",
    "version": 3
   },
   "file_extension": ".py",
   "mimetype": "text/x-python",
   "name": "python",
   "nbconvert_exporter": "python",
   "pygments_lexer": "ipython3",
   "version": "3.7.3"
  }
 },
 "nbformat": 4,
 "nbformat_minor": 2
}
