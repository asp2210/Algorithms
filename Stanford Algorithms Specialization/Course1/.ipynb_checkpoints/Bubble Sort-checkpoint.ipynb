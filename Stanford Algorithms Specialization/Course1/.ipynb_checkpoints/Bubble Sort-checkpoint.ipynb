{
 "cells": [
  {
   "cell_type": "code",
   "execution_count": 10,
   "metadata": {},
   "outputs": [],
   "source": [
    "def bubblesort(a):\n",
    "     i=0\n",
    "     swap=1\n",
    "     n=len(a)\n",
    "     while(swap>0):\n",
    "         swap=0\n",
    "         for i in range(n-1):\n",
    "            if a[i]>a[i+1]:\n",
    "                a[i],a[i+1]=a[i+1],a[i]\n",
    "                swap+=1\n",
    "     return a"
   ]
  },
  {
   "cell_type": "code",
   "execution_count": 13,
   "metadata": {},
   "outputs": [
    {
     "data": {
      "text/plain": [
       "[1, 2, 3, 4, 5, 6, 6]"
      ]
     },
     "execution_count": 13,
     "metadata": {},
     "output_type": "execute_result"
    }
   ],
   "source": [
    "bubblesort([4,5,6,6,3,1,2])"
   ]
  }
 ],
 "metadata": {
  "kernelspec": {
   "display_name": "Python 3",
   "language": "python",
   "name": "python3"
  },
  "language_info": {
   "codemirror_mode": {
    "name": "ipython",
    "version": 3
   },
   "file_extension": ".py",
   "mimetype": "text/x-python",
   "name": "python",
   "nbconvert_exporter": "python",
   "pygments_lexer": "ipython3",
   "version": "3.7.3"
  }
 },
 "nbformat": 4,
 "nbformat_minor": 2
}
