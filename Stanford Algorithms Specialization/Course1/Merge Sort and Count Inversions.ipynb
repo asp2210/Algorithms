{
 "cells": [
  {
   "cell_type": "code",
   "execution_count": 3,
   "metadata": {},
   "outputs": [],
   "source": [
    "# Python program for implementation of MergeSort \n",
    "def mergeSort_CountInversions(arr):\n",
    "    global inv\n",
    "    \n",
    "    if len(arr)==1:\n",
    "        return arr\n",
    "    if len(arr) >1: \n",
    "        \n",
    "        mid = len(arr)//2 \n",
    "        L = arr[:mid]   \n",
    "        R = arr[mid:]\n",
    "        mergeSort_CountInversions(L) \n",
    "        mergeSort_CountInversions(R) \n",
    "        i = j = k = 0\n",
    "       \n",
    "        while i < len(L) and j < len(R): \n",
    "            if L[i] <=R[j]:\n",
    "                arr[k] = L[i] \n",
    "                i+=1\n",
    "            else:\n",
    "                \n",
    "                inv.append(len(L[i:]))\n",
    "               \n",
    "                arr[k] = R[j] \n",
    "             \n",
    "                j+=1\n",
    "            k+=1 \n",
    "        while i < len(L):\n",
    "            arr[k] = L[i]\n",
    "          \n",
    "            i+=1\n",
    "            k+=1\n",
    "          \n",
    "        while j < len(R): \n",
    "            arr[k] = R[j] \n",
    "            j+=1\n",
    "            k+=1\n",
    "   \n",
    "    return arr,sum(inv)"
   ]
  },
  {
   "cell_type": "code",
   "execution_count": 5,
   "metadata": {},
   "outputs": [
    {
     "data": {
      "text/plain": [
       "([1, 2, 2, 3, 4, 5, 6], 7)"
      ]
     },
     "execution_count": 5,
     "metadata": {},
     "output_type": "execute_result"
    }
   ],
   "source": [
    "inv=[]\n",
    "arr=[2,4,1,3,5,6,2]\n",
    "mergeSort_CountInversions(arr)"
   ]
  }
 ],
 "metadata": {
  "kernelspec": {
   "display_name": "Python 3",
   "language": "python",
   "name": "python3"
  },
  "language_info": {
   "codemirror_mode": {
    "name": "ipython",
    "version": 3
   },
   "file_extension": ".py",
   "mimetype": "text/x-python",
   "name": "python",
   "nbconvert_exporter": "python",
   "pygments_lexer": "ipython3",
   "version": "3.7.3"
  }
 },
 "nbformat": 4,
 "nbformat_minor": 2
}
