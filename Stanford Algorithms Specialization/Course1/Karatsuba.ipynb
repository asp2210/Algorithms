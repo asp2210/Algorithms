{
 "cells": [
  {
   "cell_type": "code",
   "execution_count": 60,
   "metadata": {},
   "outputs": [],
   "source": [
    "def karatsuba(num1,num2):\n",
    "    if(len(str(num1))==1 or len(str(num2))==1):\n",
    "        return num1*num2\n",
    "    else:\n",
    "        n=max(len(str(num1)),len(str(num2)))\n",
    "        a=(num1//(10**(n//2)))\n",
    "        b=num1%(10**(n//2))\n",
    "        c=(num2//(10**(n//2)))\n",
    "        d=num2%(10**(n//2))\n",
    "        ac=karatsuba(a,c)\n",
    "        bd=karatsuba(b,d)\n",
    "        ad_bc=karatsuba(a+b,c+d) - ac - bd\n",
    "        if n%2==1:\n",
    "            prod= ac * 10**(n-1) + (ad_bc * 10**(n//2)) + bd\n",
    "        else:\n",
    "            prod= ac * 10**(n) + (ad_bc * 10**(n//2)) + bd\n",
    "        return prod\n",
    "    "
   ]
  },
  {
   "cell_type": "code",
   "execution_count": 61,
   "metadata": {},
   "outputs": [
    {
     "data": {
      "text/plain": [
       "8539734222673567065463550869546574495034888535765114961879601127067743044893204848617875072216249073013374895871952806582723184"
      ]
     },
     "execution_count": 61,
     "metadata": {},
     "output_type": "execute_result"
    }
   ],
   "source": [
    "karatsuba(3141592653589793238462643383279502884197169399375105820974944592,2718281828459045235360287471352662497757247093699959574966967627)"
   ]
  },
  {
   "cell_type": "code",
   "execution_count": null,
   "metadata": {},
   "outputs": [],
   "source": []
  }
 ],
 "metadata": {
  "kernelspec": {
   "display_name": "Python 3",
   "language": "python",
   "name": "python3"
  },
  "language_info": {
   "codemirror_mode": {
    "name": "ipython",
    "version": 3
   },
   "file_extension": ".py",
   "mimetype": "text/x-python",
   "name": "python",
   "nbconvert_exporter": "python",
   "pygments_lexer": "ipython3",
   "version": "3.7.3"
  }
 },
 "nbformat": 4,
 "nbformat_minor": 2
}
