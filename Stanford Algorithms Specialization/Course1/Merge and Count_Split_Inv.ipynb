{
 "cells": [
  {
   "cell_type": "code",
   "execution_count": 1,
   "metadata": {},
   "outputs": [],
   "source": [
    "def mergesort(arr):\n",
    "    if (len(arr)>1):\n",
    "        m=len(arr)//2\n",
    "        B=arr[:m]\n",
    "        C=arr[m:]\n",
    "        print(B)\n",
    "        print(C)\n",
    "        mergesort(B)\n",
    "        print(B)\n",
    "        print(C)\n",
    "        mergesort(C)\n",
    "        print(B)\n",
    "        print(C)\n",
    "        i=j=k=inv=0\n",
    "        while(j<len(C) and i<len(B)):\n",
    "            if B[i]<C[j]:\n",
    "                arr[k]=B[i]\n",
    "                i=i+1\n",
    "                k+=1\n",
    "            else:\n",
    "                inv+=len(B[i:])\n",
    "                arr[k]=C[j]\n",
    "                j=j+1\n",
    "                k+=1\n",
    "        while (i<len(B)):\n",
    "            arr[k]=B[i]\n",
    "            i+=1\n",
    "            k+=1\n",
    "        while(j<len(C)):\n",
    "            arr[k]=C[j]\n",
    "            j+=1\n",
    "            k+=1\n",
    "        print(inv)\n",
    "    return arr\n",
    "            \n",
    "        "
   ]
  },
  {
   "cell_type": "code",
   "execution_count": 20,
   "metadata": {},
   "outputs": [],
   "source": [
    "def merge(a,b):\n",
    "    output=[]\n",
    "    i,j,k=0,0,0\n",
    "    \n",
    "    while(i<len(a) and j<len(b)):\n",
    "        if a[i]<b[j]:\n",
    "            output.append(a[i])\n",
    "            i=i+1\n",
    "        else:\n",
    "            output.append(b[j])\n",
    "            j+=1\n",
    "    while i<len(a):\n",
    "        output.append(a[i])\n",
    "        i+=1\n",
    "    while j<len(b):\n",
    "        output.append(b[j])\n",
    "        j+=1\n",
    "    return output   \n",
    "\n",
    "def merge_sort(arr):\n",
    "    if len(arr)<1:\n",
    "        return arr\n",
    "     mergesort(arr[:len(arr)//2])\n",
    "    mergesort(arr[len(arr)//2:])\n",
    "           "
   ]
  },
  {
   "cell_type": "code",
   "execution_count": 21,
   "metadata": {},
   "outputs": [],
   "source": [
    "arr=[1,5,6,4,29]"
   ]
  },
  {
   "cell_type": "code",
   "execution_count": 22,
   "metadata": {
    "scrolled": true
   },
   "outputs": [
    {
     "name": "stdout",
     "output_type": "stream",
     "text": [
      "[1]\n",
      "[5]\n",
      "[1]\n",
      "[5]\n",
      "[1]\n",
      "[5]\n",
      "0\n",
      "[6]\n",
      "[4, 29]\n",
      "[6]\n",
      "[4, 29]\n",
      "[4]\n",
      "[29]\n",
      "[4]\n",
      "[29]\n",
      "[4]\n",
      "[29]\n",
      "0\n",
      "[6]\n",
      "[4, 29]\n",
      "1\n"
     ]
    }
   ],
   "source": [
    "a=[1,3,5]\n",
    "b=[2,4,6]\n",
    "merge(a,b)\n",
    "merge_sort(arr)"
   ]
  },
  {
   "cell_type": "code",
   "execution_count": 62,
   "metadata": {},
   "outputs": [
    {
     "data": {
      "text/plain": [
       "[1, 1, 2, 2, 3]"
      ]
     },
     "execution_count": 62,
     "metadata": {},
     "output_type": "execute_result"
    }
   ],
   "source": [
    "arr[:len(arr)//2+1]"
   ]
  },
  {
   "cell_type": "code",
   "execution_count": 5,
   "metadata": {},
   "outputs": [
    {
     "data": {
      "text/plain": [
       "[6, 7]"
      ]
     },
     "execution_count": 5,
     "metadata": {},
     "output_type": "execute_result"
    }
   ],
   "source": [
    "arr[len(arr)//2+1:]"
   ]
  },
  {
   "cell_type": "code",
   "execution_count": 6,
   "metadata": {},
   "outputs": [
    {
     "data": {
      "text/plain": [
       "2"
      ]
     },
     "execution_count": 6,
     "metadata": {},
     "output_type": "execute_result"
    }
   ],
   "source": [
    "3//2+1"
   ]
  },
  {
   "cell_type": "code",
   "execution_count": null,
   "metadata": {},
   "outputs": [],
   "source": []
  }
 ],
 "metadata": {
  "kernelspec": {
   "display_name": "Python 3",
   "language": "python",
   "name": "python3"
  },
  "language_info": {
   "codemirror_mode": {
    "name": "ipython",
    "version": 3
   },
   "file_extension": ".py",
   "mimetype": "text/x-python",
   "name": "python",
   "nbconvert_exporter": "python",
   "pygments_lexer": "ipython3",
   "version": "3.7.3"
  }
 },
 "nbformat": 4,
 "nbformat_minor": 2
}
