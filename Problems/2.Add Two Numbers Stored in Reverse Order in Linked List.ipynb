{
 "cells": [
  {
   "cell_type": "code",
   "execution_count": null,
   "metadata": {},
   "outputs": [],
   "source": [
    "#You are given two non-empty linked lists representing two non-negative integers. The digits are stored in reverse order and each of their nodes contain a single digit. Add the two numbers and return it as a linked list.\n",
    "#You may assume the two numbers do not contain any leading zero, except the number 0 itself."
   ]
  },
  {
   "cell_type": "code",
   "execution_count": 33,
   "metadata": {},
   "outputs": [],
   "source": [
    "class ListNode:\n",
    "    def __init__(self, x):\n",
    "        self.val = x\n",
    "        self.next = None\n",
    "class Solution:\n",
    "    def addTwoNumbers(self,l1:ListNode,l2:ListNode)->ListNode:\n",
    "        cur=result=ListNode(0)\n",
    "        carry=0\n",
    "        while(l1!=None or l2!=None):\n",
    "            _sum=carry\n",
    "            if l1:\n",
    "                _sum+=l1.val\n",
    "            if l2:\n",
    "                _sum+=l2.val\n",
    "            carry=_sum//10\n",
    "            cur.next=ListNode(_sum%10)\n",
    "            cur=cur.next\n",
    "            if l1:\n",
    "                l1=l1.next\n",
    "            if l2:\n",
    "                l2=l2.next\n",
    "        if (carry>0):\n",
    "            cur.next=ListNode(carry)\n",
    "        print(result.next)\n",
    "        return result.next\n",
    "            \n",
    "            "
   ]
  },
  {
   "cell_type": "code",
   "execution_count": 34,
   "metadata": {},
   "outputs": [],
   "source": [
    "b=Solution()"
   ]
  },
  {
   "cell_type": "code",
   "execution_count": 38,
   "metadata": {},
   "outputs": [
    {
     "name": "stdout",
     "output_type": "stream",
     "text": [
      "<__main__.ListNode object at 0x00000162F35FECC0>\n",
      "7\n",
      "<__main__.ListNode object at 0x00000162F35FEC50>\n",
      "0\n",
      "<__main__.ListNode object at 0x00000162F35FEC50>\n",
      "8\n"
     ]
    }
   ],
   "source": [
    "l1=ListNode(2)\n",
    "l1.next=ListNode(4)\n",
    "l1.next.next=ListNode(3)\n",
    "l2=ListNode(5)\n",
    "l2.next=ListNode(6)\n",
    "l2.next.next=ListNode(4)\n",
    "print(b.addTwoNumbers(l1,l2).val)\n",
    "print(b.addTwoNumbers(l1,l2).next.val)\n",
    "print(b.addTwoNumbers(l1,l2).next.next.val)"
   ]
  },
  {
   "cell_type": "code",
   "execution_count": null,
   "metadata": {},
   "outputs": [],
   "source": []
  },
  {
   "cell_type": "code",
   "execution_count": null,
   "metadata": {},
   "outputs": [],
   "source": []
  }
 ],
 "metadata": {
  "kernelspec": {
   "display_name": "Python 3",
   "language": "python",
   "name": "python3"
  },
  "language_info": {
   "codemirror_mode": {
    "name": "ipython",
    "version": 3
   },
   "file_extension": ".py",
   "mimetype": "text/x-python",
   "name": "python",
   "nbconvert_exporter": "python",
   "pygments_lexer": "ipython3",
   "version": "3.7.3"
  }
 },
 "nbformat": 4,
 "nbformat_minor": 2
}
