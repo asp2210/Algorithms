{
 "cells": [
  {
   "cell_type": "code",
   "execution_count": 36,
   "metadata": {},
   "outputs": [
    {
     "name": "stdout",
     "output_type": "stream",
     "text": [
      "['aet', 'aet', 'ant', 'aet', 'ant', 'abt']\n"
     ]
    }
   ],
   "source": [
    "a=[\"eat\", \"tea\", \"tan\", \"ate\", \"nat\", \"bat\"]\n",
    "anagramWords=[''.join(sorted(x)) for x in a]\n",
    "print(anagramWords)"
   ]
  },
  {
   "cell_type": "code",
   "execution_count": 37,
   "metadata": {},
   "outputs": [
    {
     "data": {
      "text/plain": [
       "[['ate', 'eat', 'tea'], ['nat', 'tan'], ['bat']]"
      ]
     },
     "execution_count": 37,
     "metadata": {},
     "output_type": "execute_result"
    }
   ],
   "source": [
    "class Solution:\n",
    "    def groupAnagrams(self, strs):\n",
    "          ans={}\n",
    "          for s in strs:\n",
    "            current_ana=''.join(sorted(s))\n",
    "            if current_ana in ans.keys():\n",
    "                ans[current_ana].append(s)\n",
    "            else:\n",
    "                ans[current_ana]={s}\n",
    "            ans[current_ana]=sorted(ans[current_ana])\n",
    "          return [value for value in ans.values() ]\n",
    "b=Solution()\n",
    "b.groupAnagrams(a)"
   ]
  },
  {
   "cell_type": "code",
   "execution_count": 66,
   "metadata": {},
   "outputs": [],
   "source": [
    "def groupAnagrams2(strs):\n",
    "    dct={}\n",
    "    for s in strs:\n",
    "        cur=''.join(sorted(s))\n",
    "        if cur in dct.keys():\n",
    "            dct[cur].append(s)\n",
    "            \n",
    "        else:\n",
    "            dct[cur]=[s]\n",
    "        dct[cur]=sorted(dct[cur])\n",
    "    \n",
    "    return dct.values()"
   ]
  },
  {
   "cell_type": "code",
   "execution_count": 67,
   "metadata": {},
   "outputs": [
    {
     "data": {
      "text/plain": [
       "dict_values([['ate', 'eat', 'tea'], ['nat', 'tan'], ['bat']])"
      ]
     },
     "execution_count": 67,
     "metadata": {},
     "output_type": "execute_result"
    }
   ],
   "source": [
    "groupAnagrams2(a)"
   ]
  }
 ],
 "metadata": {
  "kernelspec": {
   "display_name": "Python 3",
   "language": "python",
   "name": "python3"
  },
  "language_info": {
   "codemirror_mode": {
    "name": "ipython",
    "version": 3
   },
   "file_extension": ".py",
   "mimetype": "text/x-python",
   "name": "python",
   "nbconvert_exporter": "python",
   "pygments_lexer": "ipython3",
   "version": "3.7.3"
  }
 },
 "nbformat": 4,
 "nbformat_minor": 2
}
