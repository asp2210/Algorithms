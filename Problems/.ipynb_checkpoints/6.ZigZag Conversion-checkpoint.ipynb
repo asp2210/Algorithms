{
 "cells": [
  {
   "cell_type": "code",
   "execution_count": 61,
   "metadata": {},
   "outputs": [],
   "source": [
    "class Solution:\n",
    "    def convert(self, s: str, numRows: int) -> str:\n",
    "        out=['' for i in range(numRows)]\n",
    "        dir=1\n",
    "        i=0\n",
    "        for j in s:\n",
    "            out[i]+=j\n",
    "            if i==numRows-1:\n",
    "                dir=-1\n",
    "            if i==0:\n",
    "                dir=1\n",
    "            i=i+dir\n",
    "        out=''.join(out)\n",
    "        return out\n",
    "        "
   ]
  },
  {
   "cell_type": "code",
   "execution_count": 63,
   "metadata": {},
   "outputs": [
    {
     "data": {
      "text/plain": [
       "'PSAliYAnPg'"
      ]
     },
     "execution_count": 63,
     "metadata": {},
     "output_type": "execute_result"
    }
   ],
   "source": [
    "b=Solution()\n",
    "b.convert(\"PAYPAlSing\",4)"
   ]
  },
  {
   "cell_type": "code",
   "execution_count": null,
   "metadata": {},
   "outputs": [],
   "source": []
  }
 ],
 "metadata": {
  "kernelspec": {
   "display_name": "Python 3",
   "language": "python",
   "name": "python3"
  },
  "language_info": {
   "codemirror_mode": {
    "name": "ipython",
    "version": 3
   },
   "file_extension": ".py",
   "mimetype": "text/x-python",
   "name": "python",
   "nbconvert_exporter": "python",
   "pygments_lexer": "ipython3",
   "version": "3.7.3"
  }
 },
 "nbformat": 4,
 "nbformat_minor": 2
}
