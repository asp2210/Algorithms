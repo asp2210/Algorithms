{
 "cells": [
  {
   "cell_type": "code",
   "execution_count": 3,
   "metadata": {},
   "outputs": [],
   "source": [
    "def maxcommon(stri):\n",
    "    alpha=[0 for _ in range(26)]\n",
    "    for i in stri:\n",
    "        alpha[ord(i)-97]+=1\n",
    "    #print(alpha)\n",
    "    ret=0\n",
    "    cur=0\n",
    "    for i in stri:\n",
    "        if (alpha[ord(i)-97]>1):\n",
    "            cur+=1\n",
    "            #print(cur)\n",
    "            alpha[ord(i)-97]-=2\n",
    "        elif (alpha[ord(i)-97]==0):\n",
    "            cur=cur-1\n",
    "            #print(cur)\n",
    "        else:\n",
    "            alpha[ord(i)-97]-=1\n",
    "        ret=max(cur,ret)\n",
    "        \n",
    "    return ret\n"
   ]
  },
  {
   "cell_type": "code",
   "execution_count": 4,
   "metadata": {},
   "outputs": [
    {
     "data": {
      "text/plain": [
       "2"
      ]
     },
     "execution_count": 4,
     "metadata": {},
     "output_type": "execute_result"
    }
   ],
   "source": [
    "maxcommon('abcddear')"
   ]
  },
  {
   "cell_type": "code",
   "execution_count": null,
   "metadata": {},
   "outputs": [],
   "source": []
  }
 ],
 "metadata": {
  "kernelspec": {
   "display_name": "Python 3",
   "language": "python",
   "name": "python3"
  },
  "language_info": {
   "codemirror_mode": {
    "name": "ipython",
    "version": 3
   },
   "file_extension": ".py",
   "mimetype": "text/x-python",
   "name": "python",
   "nbconvert_exporter": "python",
   "pygments_lexer": "ipython3",
   "version": "3.7.3"
  }
 },
 "nbformat": 4,
 "nbformat_minor": 2
}
