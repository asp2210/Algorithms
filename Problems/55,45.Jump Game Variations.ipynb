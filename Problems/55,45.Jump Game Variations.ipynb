{
 "cells": [
  {
   "cell_type": "code",
   "execution_count": 106,
   "metadata": {},
   "outputs": [],
   "source": [
    "#Greedy approach-Most efficient\n",
    "def jumpgame(arr):# Find if it is possible to reach the last index from the first\n",
    "    lastPos=len(arr)-1\n",
    "    #mod=[0 for i in range(len(arr))]\n",
    "    for i in reversed(range(len(arr))):\n",
    "        if i+arr[i]>=lastPos:\n",
    "            lastPos=i\n",
    "    return lastPos==0"
   ]
  },
  {
   "cell_type": "code",
   "execution_count": 107,
   "metadata": {},
   "outputs": [],
   "source": [
    "def jumpgame_2(arr):#minimum number of jumps to reach last position\n",
    "    ladder=arr[0]\n",
    "    stairs=arr[0]\n",
    "    jump=1\n",
    "    level=0\n",
    "    if len(arr)==1:\n",
    "        return 0\n",
    "    for i in range(1,len(arr)):\n",
    "        if (i==len(arr)-1):\n",
    "            #level=1\n",
    "            break\n",
    "        if (i+arr[i]>ladder):#keeping track of the largest ladder\n",
    "            ladder=i+arr[i]\n",
    "        stairs-=1\n",
    "        if(stairs==0):\n",
    "            jump+=1\n",
    "            stairs=ladder-i\n",
    "    if (ladder!=arr[-1]):#If we cannot reach end of array\n",
    "        return (\"Cannot reach the end\")\n",
    "    else:\n",
    "        return jump\n"
   ]
  },
  {
   "cell_type": "code",
   "execution_count": 108,
   "metadata": {},
   "outputs": [],
   "source": [
    "a=[2,3,1,1,4]"
   ]
  },
  {
   "cell_type": "code",
   "execution_count": 109,
   "metadata": {},
   "outputs": [
    {
     "name": "stdout",
     "output_type": "stream",
     "text": [
      "2\n"
     ]
    }
   ],
   "source": [
    "print(jumpgame_2(a))"
   ]
  },
  {
   "cell_type": "code",
   "execution_count": 110,
   "metadata": {},
   "outputs": [
    {
     "data": {
      "text/plain": [
       "0"
      ]
     },
     "execution_count": 110,
     "metadata": {},
     "output_type": "execute_result"
    }
   ],
   "source": [
    "b=[0]\n",
    "jumpgame_2(b)"
   ]
  },
  {
   "cell_type": "code",
   "execution_count": 65,
   "metadata": {},
   "outputs": [
    {
     "data": {
      "text/plain": [
       "'Cannot reach the end'"
      ]
     },
     "execution_count": 65,
     "metadata": {},
     "output_type": "execute_result"
    }
   ],
   "source": [
    "c=[3,2,1,0,4]\n",
    "jumpgame_2(c)"
   ]
  }
 ],
 "metadata": {
  "kernelspec": {
   "display_name": "Python 3",
   "language": "python",
   "name": "python3"
  },
  "language_info": {
   "codemirror_mode": {
    "name": "ipython",
    "version": 3
   },
   "file_extension": ".py",
   "mimetype": "text/x-python",
   "name": "python",
   "nbconvert_exporter": "python",
   "pygments_lexer": "ipython3",
   "version": "3.7.3"
  }
 },
 "nbformat": 4,
 "nbformat_minor": 2
}
