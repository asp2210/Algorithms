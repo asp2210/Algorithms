{
 "cells": [
  {
   "cell_type": "code",
   "execution_count": 53,
   "metadata": {},
   "outputs": [],
   "source": [
    "def special_elements(mat):\n",
    "    row_max=[row[0] for row in mat]\n",
    "    column_max=[row for row in mat[0]]\n",
    "    column_min=[row for row in mat[0]]\n",
    "    print(column_max)\n",
    "    print(column_min)\n",
    "    row_min=[row[0] for row in mat]\n",
    "    ans=[]\n",
    "    for i in range(len(mat)):\n",
    "        for j in range(len(mat[0])):\n",
    "            if mat[i][j]>row_max[i]:\n",
    "                row_max[i]=mat[i][j]\n",
    "            if mat[i][j]<row_min[i]:\n",
    "                row_min[i]=mat[i][j]\n",
    "            if mat[i][j]>column_max[j]:\n",
    "                column_max[j]=mat[i][j]\n",
    "            if mat[i][j]<column_min[j]:\n",
    "                column_min[j]=mat[i][j]\n",
    "    for i in range(len(mat)):\n",
    "        for j in range(len(mat[0])):\n",
    "            #if row_min[i]==column_min[j] and mat[i][j]==row_min[i]==column_min[i]:\n",
    "             #   continue\n",
    "            if (mat[i][j]==row_min[i] and mat[i][j]!=column_min[j] and mat[i][j]!=column_max[j] and mat[i][j]!=row_max[i]) or (mat[i][j]!=row_min[i] and mat[i][j]==column_min[j]and mat[i][j]!=column_max[j] and mat[i][j]!=row_max[i]) or (mat[i][j]!=row_min[i] and mat[i][j]!=column_min[j]and mat[i][j]==column_max[j] and mat[i][j]!=row_max[i]) or (mat[i][j]!=row_min[i] and mat[i][j]!=column_min[j]and mat[i][j]!=column_max[j] and mat[i][j]==row_max[i]):\n",
    "                if mat[i][j]==row_min[i]:\n",
    "                    ans.append(row_min[i])\n",
    "                if mat[i][j]==column_min[j]:\n",
    "                    ans.append(column_min[j])\n",
    "                if mat[i][j]==column_max[j]:\n",
    "                    ans.append(column_max[j])\n",
    "                if mat[i][j]==row_max[j]:\n",
    "                    ans.append(row_max[j])\n",
    "            if row_max[i]==column_max[j] and mat[i][j]==row_max[i]==column_max[i]:\n",
    "                continue\n",
    "            #if (mat[i][j]==row_max[i] and mat[i][j]!=column_max[j]) or (mat[i][j]!=row_max[i] and mat[i][j]==column_max[j]):\n",
    "             #   if mat[i][j]==row_max[i]:\n",
    "              #      ans.append(row_max[i])\n",
    "               # if mat[i][j]==column_max[j]:\n",
    "                #    ans.append(column_max[j])\n",
    "    print(ans)\n",
    "    print(column_min,\"column_min\")\n",
    "    print(column_max,\"col max\")\n",
    "    print(row_max,\"row max\")\n",
    "    print(row_min,\"row min\")\n",
    "    \n",
    "             "
   ]
  },
  {
   "cell_type": "code",
   "execution_count": 54,
   "metadata": {
    "scrolled": true
   },
   "outputs": [
    {
     "name": "stdout",
     "output_type": "stream",
     "text": [
      "[1, 3, 4]\n",
      "[1, 3, 4]\n",
      "[7, 6]\n",
      "[1, 2, 4] column_min\n",
      "[8, 7, 9] col max\n",
      "[4, 9, 8] row max\n",
      "[1, 2, 6] row min\n",
      "True\n"
     ]
    }
   ],
   "source": [
    "mat=[[1,3,4],[5,2,9],[8,7,6]]\n",
    "special_elements(mat)\n",
    "print(3==3==3)"
   ]
  },
  {
   "cell_type": "code",
   "execution_count": null,
   "metadata": {},
   "outputs": [],
   "source": []
  }
 ],
 "metadata": {
  "kernelspec": {
   "display_name": "Python 3",
   "language": "python",
   "name": "python3"
  },
  "language_info": {
   "codemirror_mode": {
    "name": "ipython",
    "version": 3
   },
   "file_extension": ".py",
   "mimetype": "text/x-python",
   "name": "python",
   "nbconvert_exporter": "python",
   "pygments_lexer": "ipython3",
   "version": "3.7.3"
  }
 },
 "nbformat": 4,
 "nbformat_minor": 2
}
