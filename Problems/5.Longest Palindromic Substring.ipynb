{
 "cells": [
  {
   "cell_type": "code",
   "execution_count": 3,
   "metadata": {},
   "outputs": [],
   "source": [
    "class Solution:\n",
    "    def longestPalindrome(self, s: str) -> str:\n",
    "        if (s==None and len(s)<1):\n",
    "            return \"\"\n",
    "        start=0 \n",
    "        end=0\n",
    "        lent=1\n",
    "        for i in range(len(s)-1):\n",
    "            len1=maxpalindrome(s,i,i)\n",
    "            \n",
    "            len2=maxpalindrome(s,i,i+1)\n",
    "            lent=max(len1,len2)\n",
    "            if (lent>end-start) :\n",
    "                start=i-(lent-1)//2\n",
    "                end=i+(lent//2)\n",
    "        return s[start:end+1]  \n",
    "    \n",
    "                \n",
    "def maxpalindrome(s,left,right):\n",
    "    while(left>=0 and right<len(s) and s[left]==s[right]):\n",
    "          left-=1\n",
    "          right+=1\n",
    "    return right-left-1 \n"
   ]
  },
  {
   "cell_type": "code",
   "execution_count": 5,
   "metadata": {},
   "outputs": [
    {
     "data": {
      "text/plain": [
       "'ababa'"
      ]
     },
     "execution_count": 5,
     "metadata": {},
     "output_type": "execute_result"
    }
   ],
   "source": [
    "s=\"aababa\"\n",
    "b=Solution()\n",
    "b.longestPalindrome(s)"
   ]
  },
  {
   "cell_type": "code",
   "execution_count": null,
   "metadata": {},
   "outputs": [],
   "source": []
  }
 ],
 "metadata": {
  "kernelspec": {
   "display_name": "Python 3",
   "language": "python",
   "name": "python3"
  },
  "language_info": {
   "codemirror_mode": {
    "name": "ipython",
    "version": 3
   },
   "file_extension": ".py",
   "mimetype": "text/x-python",
   "name": "python",
   "nbconvert_exporter": "python",
   "pygments_lexer": "ipython3",
   "version": "3.7.3"
  }
 },
 "nbformat": 4,
 "nbformat_minor": 2
}
