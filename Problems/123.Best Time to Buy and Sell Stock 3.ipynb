{
 "cells": [
  {
   "cell_type": "markdown",
   "metadata": {},
   "source": [
    "The dynamic programming equation is as follows:\n",
    "$dp(k,i)=max(dp[k,i-1],prices[i]-prices[j]+dp[k-1,j-1])$ where j=0,...i-1\n",
    "where k is the maximum number of transactions and i is current index."
   ]
  },
  {
   "cell_type": "code",
   "execution_count": 91,
   "metadata": {},
   "outputs": [],
   "source": [
    "class Solution:\n",
    "    def maxProfit(self, prices):\n",
    "        if len(prices)==0:\n",
    "            return 0\n",
    "        if len(prices)==2:\n",
    "            if prices[1]>=prices[0]:\n",
    "                return prices[1]-prices[0]\n",
    "        dp=[[0 for _ in range(len(prices))]for _ in range(3)]\n",
    "        for k in range(1,3):\n",
    "          minr=prices[0]  \n",
    "          for i in range(1,len(prices)):\n",
    "                minr=min(minr,prices[i]-dp[k-1] [i-1])\n",
    "                dp[k][i]=max(dp[k][i-1],prices[i]-minr)\n",
    "        return dp[2][len(prices)-1]"
   ]
  },
  {
   "cell_type": "code",
   "execution_count": 92,
   "metadata": {},
   "outputs": [],
   "source": [
    "prices=[3,3,5,0,0,3,1,4]\n",
    "b=Solution()"
   ]
  },
  {
   "cell_type": "code",
   "execution_count": 93,
   "metadata": {
    "scrolled": true
   },
   "outputs": [
    {
     "data": {
      "text/plain": [
       "6"
      ]
     },
     "execution_count": 93,
     "metadata": {},
     "output_type": "execute_result"
    }
   ],
   "source": [
    "b.maxProfit(prices)"
   ]
  }
 ],
 "metadata": {
  "kernelspec": {
   "display_name": "Python 3",
   "language": "python",
   "name": "python3"
  },
  "language_info": {
   "codemirror_mode": {
    "name": "ipython",
    "version": 3
   },
   "file_extension": ".py",
   "mimetype": "text/x-python",
   "name": "python",
   "nbconvert_exporter": "python",
   "pygments_lexer": "ipython3",
   "version": "3.7.3"
  }
 },
 "nbformat": 4,
 "nbformat_minor": 2
}
